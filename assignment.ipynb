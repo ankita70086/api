{
 "cells": [
  {
   "cell_type": "markdown",
   "id": "68f7d750-e807-436c-acf7-81fc8df93bff",
   "metadata": {},
   "source": [
    "# 1.\n"
   ]
  },
  {
   "cell_type": "code",
   "execution_count": null,
   "id": "1cd09004-5fd8-4337-8b59-bccac74a43fa",
   "metadata": {},
   "outputs": [],
   "source": [
    "API stands for application programming interface . \n",
    "an API is a set of rules or protocols that allows different apllications to communicate with each other. it defines the method and data format that\n",
    "that devlopers can acess features of that application \n",
    "\n",
    "A real life eg.of API is googlemaps API , it allows devloper to integrate googlemaps functionality in to theire application . By using the API \n",
    "devlopers can acess various functions such as displaying maps, getting direction ,and performing geolocation searchs . if we are bulding a project\n",
    "in which we need to displaying  various maps of diiferent places , instead of building our own infrastrucure for fetching and displaying maps we can \n",
    "use googlemaps API. we can make request to googlemaps server to retrives the maps that matches our specified criteria.\n",
    "\n"
   ]
  },
  {
   "cell_type": "markdown",
   "id": "cb999ca8-e255-4882-98a4-f000982175f4",
   "metadata": {},
   "source": [
    "\n",
    "2.\n"
   ]
  },
  {
   "cell_type": "code",
   "execution_count": null,
   "id": "17ee5738-f3cf-4e6e-a2f6-a17e9e6518cd",
   "metadata": {},
   "outputs": [],
   "source": [
    "Advantages of using APIs:\n",
    "\n",
    "Reusability: APIs promote code reuse by providing a standardized interface. Developers can leverage existing APIs to access pre-built functionalities,\n",
    "             services, or data, saving time and effort.\n",
    "\n",
    "Efficiency: APIs allow developers to offload certain tasks to specialized services or platforms, which can handle them more efficiently. \n",
    "            For example, using a payment gateway API to process transactions eliminates the need to develop and maintain payment processing\n",
    "            infrastructure.\n",
    "\n",
    "Scalability: APIs enable developers to scale their applications by integrating external services that can handle increased loads or provide additional\n",
    "             features. This allows applications to adapt and grow without major architectural changes.\n",
    "\n",
    "Integration: APIs facilitate integration between different software systems. By defining a common set of rules and protocols, APIs enable seamless\n",
    "             communication and data exchange between applications, services, or devices.\n",
    "\n",
    "Innovation: APIs encourage innovation by providing developers with access to new technologies, functionalities, and data. \n",
    "            They can build upon existing APIs to create novel applications, mashups, or integrations that were not possible before.\n",
    "\n",
    "Disadvantages of using APIs:\n",
    "\n",
    "Dependency: When using APIs, your application becomes dependent on the availability, reliability, and stability of the API provider.\n",
    "            Any issues or changes in the API can impact the functionality of your application.\n",
    "\n",
    "Limited control: As you rely on external APIs, you have limited control over the underlying systems or infrastructure.\n",
    "                 Changes or updates to the API's functionality, pricing, or terms of service might affect your application and require adjustments.\n",
    "\n",
    "Security and privacy concerns: Integrating external APIs introduces potential security risks. Its crucial to ensure that the API provider follows\n",
    "                               proper security practices and protects sensitive data. Inadequate security measures can lead to unauthorized access\n",
    "                               or data breaches.\n",
    "\n",
    "Performance: The performance of your application can be influenced by the performance and responsiveness of the APIs you integrate.\n",
    "             If an API experiences downtime or latency, it can impact the overall user experience of your application.\n",
    "\n",
    "Versioning and compatibility: APIs can evolve over time, and newer versions might introduce changes or deprecate certain functionalities.\n",
    "           Managing API version compatibility and handling updates in your application can require additional effort.  \n"
   ]
  },
  {
   "cell_type": "markdown",
   "id": "06b1a77f-a332-4fa3-8dea-fd9b863fd2f0",
   "metadata": {},
   "source": [
    "### 3."
   ]
  },
  {
   "cell_type": "code",
   "execution_count": null,
   "id": "cf609c92-299e-439d-88c4-75e8661827c0",
   "metadata": {},
   "outputs": [],
   "source": [
    "web API is special type of API designed to communicate and data exchanging between web based systems over web .\n",
    "API is a broad term, it refers to API used in various context like desktop apllication , mobile app, libraries, operating systeems . API can be \n",
    "integrated to apllications thorugh software libraries ,SDKs , or direct communication through protocols . Meanwhile Web API specifically refers to \n",
    "APIs designed for web-based systems and follows web standards .Web APIs are accessed by making HTTPrequests (GET, POST, PUT, DELETE) to\n",
    "specific URLs or endpoints exposed by the API provider."
   ]
  },
  {
   "cell_type": "markdown",
   "id": "d03fc304-e85b-46db-b174-d40b963ac622",
   "metadata": {},
   "source": [
    "4."
   ]
  },
  {
   "cell_type": "code",
   "execution_count": null,
   "id": "c349faab-442e-4bf1-9d7b-05b6f315a6e5",
   "metadata": {},
   "outputs": [],
   "source": [
    "REST(representational state transfer) and SOAP(simple Object Access Protocol) are two different architectural styles for\n",
    "designing web serivices.\n",
    "REST:\n",
    "REST is an architectural style that focuses on leveraging the existing protocols and standards of the web, such as HTTP,\n",
    "to build scalable and stateless web services. \n",
    "SOAP:\n",
    "SOAP, on the other hand, is a protocol that defines a strict XML-based messaging format for exchanging structured data between web services\n",
    "\n",
    "demerits of SOAP:\n",
    "\n",
    "Complexity: SOAP is known for its complexity compared to REST. The XML-based messaging format and extensive set of rules make it more\n",
    "    challenging to implement and maintain SOAP-based APIs. This complexity can slow down development and increase the learning curve for developers.\n",
    "\n",
    "Performance Overhead: SOAP messages tend to be larger and more bloated due to the XML payload and additional headers required for message formatting\n",
    "                      and security. This can result in increased bandwidth usage and slower performance compared to the lightweight nature of RESTful \n",
    "                      APIs.\n",
    "\n",
    "Lack of Compatibility: SOAP implementations can vary across different programming languages and platforms, making it less interoperable compared to\n",
    "                       REST, which is based on standard web protocols. This lack of compatibility can limit the ability to integrate SOAP-based\n",
    "                       services with different systems and technologies.\n",
    "\n",
    "Limited Support for Web Standards: SOAP does not fully leverage existing web standards like HTTP. It often requires additional infrastructure and\n",
    "                                   middleware to handle the messaging and communication aspects, leading to a more complex setup and configuration.\n",
    "\n",
    "Development and Debugging Complexity: Due to the complex nature of SOAP, debugging and troubleshooting SOAP-based services can be more challenging.\n",
    "                                      The extensive XML structure and multiple layers of headers and envelopes make it harder to analyze and diagnose\n",
    "                                      issues compared to the simplicity of RESTful APIs."
   ]
  },
  {
   "cell_type": "markdown",
   "id": "f44b5eca-1df1-4f23-92b8-7fa9f412ad9a",
   "metadata": {},
   "source": [
    "5."
   ]
  },
  {
   "cell_type": "code",
   "execution_count": null,
   "id": "a793a8ee-ac5c-464c-98e7-4b0fdd430f75",
   "metadata": {},
   "outputs": [],
   "source": []
  }
 ],
 "metadata": {
  "kernelspec": {
   "display_name": "Python 3 (ipykernel)",
   "language": "python",
   "name": "python3"
  },
  "language_info": {
   "codemirror_mode": {
    "name": "ipython",
    "version": 3
   },
   "file_extension": ".py",
   "mimetype": "text/x-python",
   "name": "python",
   "nbconvert_exporter": "python",
   "pygments_lexer": "ipython3",
   "version": "3.10.8"
  }
 },
 "nbformat": 4,
 "nbformat_minor": 5
}
